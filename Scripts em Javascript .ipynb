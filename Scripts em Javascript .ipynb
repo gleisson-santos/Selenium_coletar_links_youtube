{
 "cells": [
  {
   "cell_type": "code",
   "execution_count": 1,
   "id": "3112cdef",
   "metadata": {
    "scrolled": true
   },
   "outputs": [
    {
     "name": "stdout",
     "output_type": "stream",
     "text": [
      "\n"
     ]
    },
    {
     "name": "stderr",
     "output_type": "stream",
     "text": [
      "[WDM] - ====== WebDriver manager ======\n",
      "[WDM] - Current google-chrome version is 106.0.5249\n",
      "[WDM] - Get LATEST chromedriver version for 106.0.5249 google-chrome\n",
      "[WDM] - Driver [C:\\Users\\gleisson.santos\\.wdm\\drivers\\chromedriver\\win32\\106.0.5249.61\\chromedriver.exe] found in cache\n",
      "C:\\Users\\GLEISS~1.SAN\\AppData\\Local\\Temp/ipykernel_5184/437684011.py:12: DeprecationWarning: executable_path has been deprecated, please pass in a Service object\n",
      "  driver = webdriver.Chrome(ChromeDriverManager().install())\n"
     ]
    },
    {
     "name": "stdout",
     "output_type": "stream",
     "text": [
      "Arquivos Xlsl criado com Sucesso!!\n"
     ]
    }
   ],
   "source": [
    "from selenium.webdriver.common.keys import Keys\n",
    "from selenium.webdriver.common.by import By\n",
    "from selenium.webdriver.chrome.options import Options\n",
    "from webdriver_manager.chrome import ChromeDriverManager\n",
    "from selenium import webdriver\n",
    "import pandas as pd\n",
    "import time\n",
    "\n",
    "options = Options()\n",
    "options.add_argument(\"start-maximized\")\n",
    "\n",
    "driver = webdriver.Chrome(ChromeDriverManager().install())\n",
    "chrome_options = webdriver.ChromeOptions()\n",
    "\n",
    "driver.get(\"http://youtube.com\")\n",
    "\n",
    "time.sleep(2)\n",
    "\n",
    "busca  = \"Python e Django\"\n",
    "driver.find_element(By.NAME, \"search_query\").click()\n",
    "driver.find_element(By.NAME, \"search_query\").send_keys(busca, Keys.ENTER)\n",
    "\n",
    "time.sleep(2)\n",
    "\n",
    "videos = driver.find_elements(By.ID, \"video-title\")\n",
    "\n",
    "lista_df = []\n",
    "for video in videos:\n",
    "    lista_apoio = []\n",
    "    link = video.get_attribute(\"href\")\n",
    "    titulo = video.get_attribute(\"title\")\n",
    "    if link == None:\n",
    "        continue\n",
    "    lista_apoio.append(link)\n",
    "    lista_apoio.append(titulo)\n",
    "    lista_df.append(lista_apoio)\n",
    "    \n",
    "df = pd.DataFrame(lista_df, columns=[\"Links\", \"Tituulo\"])\n",
    "df.to_excel(\"Aula.xlsx\", index = False)\n",
    "print(\"Arquivos Xlsl criado com Sucesso!!\")\n",
    "    \n"
   ]
  },
  {
   "cell_type": "code",
   "execution_count": 16,
   "id": "e299fbf9",
   "metadata": {
    "collapsed": true
   },
   "outputs": [
    {
     "name": "stdout",
     "output_type": "stream",
     "text": [
      "                                          Links  \\\n",
      "0                                          None   \n",
      "1                                          None   \n",
      "2                                          None   \n",
      "3                                          None   \n",
      "4                                          None   \n",
      "..                                          ...   \n",
      "61                                         None   \n",
      "62  https://www.youtube.com/watch?v=hdDHg1p3YVc   \n",
      "63  https://www.youtube.com/watch?v=0UyHIYS3R8k   \n",
      "64  https://www.youtube.com/watch?v=VuKvR1J2LQE   \n",
      "65  https://www.youtube.com/watch?v=ElRd0cbXIv4   \n",
      "\n",
      "                                              Tituulo  \n",
      "0                                                      \n",
      "1                                                      \n",
      "2                                                      \n",
      "3                                                      \n",
      "4                                                      \n",
      "..                                                ...  \n",
      "61  Creating a Stand Alone Executable from a Pytho...  \n",
      "62  Curso Python #06 - Tipos Primitivos e Saída de...  \n",
      "63      CRIEI um SISTEMA de VOTAÇÃO em PYTHON p/ 2022  \n",
      "64   Curso Python #03 - Instalando o Python3 e o IDLE  \n",
      "65  Curso Python #05 - Instalando o PyCharm e o QP...  \n",
      "\n",
      "[66 rows x 2 columns]\n"
     ]
    }
   ],
   "source": []
  }
 ],
 "metadata": {
  "kernelspec": {
   "display_name": "Python 3 (ipykernel)",
   "language": "python",
   "name": "python3"
  },
  "language_info": {
   "codemirror_mode": {
    "name": "ipython",
    "version": 3
   },
   "file_extension": ".py",
   "mimetype": "text/x-python",
   "name": "python",
   "nbconvert_exporter": "python",
   "pygments_lexer": "ipython3",
   "version": "3.9.7"
  }
 },
 "nbformat": 4,
 "nbformat_minor": 5
}
